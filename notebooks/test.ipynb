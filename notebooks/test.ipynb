{
 "cells": [
  {
   "cell_type": "code",
   "execution_count": 1,
   "id": "379b5390",
   "metadata": {},
   "outputs": [
    {
     "name": "stdout",
     "output_type": "stream",
     "text": [
      "<class 'pandas.core.frame.DataFrame'>\n",
      "RangeIndex: 264 entries, 0 to 263\n",
      "Data columns (total 13 columns):\n",
      " #   Column                                                  Non-Null Count  Dtype  \n",
      "---  ------                                                  --------------  -----  \n",
      " 0   Industry Code                                           264 non-null    object \n",
      " 1   Industry Name                                           264 non-null    object \n",
      " 2   Substance                                               264 non-null    object \n",
      " 3   Unit                                                    264 non-null    object \n",
      " 4   Supply Chain Emission Factors without Margins           264 non-null    object \n",
      " 5   Margins of Supply Chain Emission Factors                264 non-null    float64\n",
      " 6   Supply Chain Emission Factors with Margins              264 non-null    float64\n",
      " 7   Unnamed: 7                                              0 non-null      float64\n",
      " 8   DQ ReliabilityScore of Factors without Margins          264 non-null    int64  \n",
      " 9   DQ TemporalCorrelation of Factors without Margins       264 non-null    int64  \n",
      " 10  DQ GeographicalCorrelation of Factors without Margins   264 non-null    int64  \n",
      " 11  DQ TechnologicalCorrelation of Factors without Margins  264 non-null    int64  \n",
      " 12  DQ DataCollection of Factors without Margins            264 non-null    int64  \n",
      "dtypes: float64(3), int64(5), object(5)\n",
      "memory usage: 26.9+ KB\n"
     ]
    },
    {
     "data": {
      "text/plain": [
       "(None,\n",
       "   Industry Code                              Industry Name       Substance  \\\n",
       " 0         111CA                                      Farms  carbon dioxide   \n",
       " 1         111CA                                      Farms         methane   \n",
       " 2         111CA                                      Farms   nitrous oxide   \n",
       " 3         111CA                                      Farms      other GHGs   \n",
       " 4         113FF  Forestry, fishing, and related activities  carbon dioxide   \n",
       " \n",
       "                                 Unit  \\\n",
       " 0       kg/2018 USD, purchaser price   \n",
       " 1       kg/2018 USD, purchaser price   \n",
       " 2       kg/2018 USD, purchaser price   \n",
       " 3  kg CO2e/2018 USD, purchaser price   \n",
       " 4       kg/2018 USD, purchaser price   \n",
       " \n",
       "    Supply Chain Emission Factors without Margins  \\\n",
       " 0  Supply Chain Emission Factors without Margins   \n",
       " 1                                          0.023   \n",
       " 2                                          0.002   \n",
       " 3                                          0.004   \n",
       " 4                                          0.184   \n",
       " \n",
       "    Margins of Supply Chain Emission Factors  \\\n",
       " 0                                     0.041   \n",
       " 1                                     0.000   \n",
       " 2                                     0.000   \n",
       " 3                                     0.000   \n",
       " 4                                     0.017   \n",
       " \n",
       "    Supply Chain Emission Factors with Margins  Unnamed: 7  \\\n",
       " 0                                       0.465         NaN   \n",
       " 1                                       0.023         NaN   \n",
       " 2                                       0.002         NaN   \n",
       " 3                                       0.004         NaN   \n",
       " 4                                       0.201         NaN   \n",
       " \n",
       "    DQ ReliabilityScore of Factors without Margins  \\\n",
       " 0                                               4   \n",
       " 1                                               3   \n",
       " 2                                               4   \n",
       " 3                                               3   \n",
       " 4                                               4   \n",
       " \n",
       "    DQ TemporalCorrelation of Factors without Margins  \\\n",
       " 0                                                  2   \n",
       " 1                                                  2   \n",
       " 2                                                  2   \n",
       " 3                                                  2   \n",
       " 4                                                  2   \n",
       " \n",
       "    DQ GeographicalCorrelation of Factors without Margins  \\\n",
       " 0                                                  1       \n",
       " 1                                                  1       \n",
       " 2                                                  1       \n",
       " 3                                                  1       \n",
       " 4                                                  1       \n",
       " \n",
       "    DQ TechnologicalCorrelation of Factors without Margins  \\\n",
       " 0                                                  4        \n",
       " 1                                                  1        \n",
       " 2                                                  4        \n",
       " 3                                                  4        \n",
       " 4                                                  4        \n",
       " \n",
       "    DQ DataCollection of Factors without Margins  \n",
       " 0                                             1  \n",
       " 1                                             1  \n",
       " 2                                             1  \n",
       " 3                                             1  \n",
       " 4                                             1  )"
      ]
     },
     "execution_count": 1,
     "metadata": {},
     "output_type": "execute_result"
    }
   ],
   "source": [
    "import pandas as pd\n",
    "\n",
    "# Load the uploaded CSV file\n",
    "df = pd.read_csv(\"../data/test1.csv\")\n",
    "\n",
    "# Display basic info and preview\n",
    "df.info(), df.head()"
   ]
  }
 ],
 "metadata": {
  "kernelspec": {
   "display_name": ".venv",
   "language": "python",
   "name": "python3"
  },
  "language_info": {
   "codemirror_mode": {
    "name": "ipython",
    "version": 3
   },
   "file_extension": ".py",
   "mimetype": "text/x-python",
   "name": "python",
   "nbconvert_exporter": "python",
   "pygments_lexer": "ipython3",
   "version": "3.13.5"
  }
 },
 "nbformat": 4,
 "nbformat_minor": 5
}
