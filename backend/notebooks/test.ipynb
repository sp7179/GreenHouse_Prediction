{
 "cells": [
  {
   "cell_type": "code",
   "execution_count": 2,
   "id": "d170f618",
   "metadata": {},
   "outputs": [],
   "source": [
    "import pandas as pd\n",
    "\n",
    "# Load the file and inspect column names\n",
    "df = pd.read_csv(\"../data/test1.csv\")"
   ]
  },
  {
   "cell_type": "code",
   "execution_count": 6,
   "id": "8864bce8",
   "metadata": {},
   "outputs": [
    {
     "name": "stdout",
     "output_type": "stream",
     "text": [
      "Original columns: ['Industry Code', 'Industry Name', 'Substance', 'Unit', 'Supply Chain Emission Factors without Margins', 'Margins of Supply Chain Emission Factors', 'Supply Chain Emission Factors with Margins', 'Unnamed: 7', 'DQ ReliabilityScore of Factors without Margins', 'DQ TemporalCorrelation of Factors without Margins', 'DQ GeographicalCorrelation of Factors without Margins', 'DQ TechnologicalCorrelation of Factors without Margins', 'DQ DataCollection of Factors without Margins']\n"
     ]
    }
   ],
   "source": [
    "# Check columns\n",
    "print(\"Original columns:\", df.columns.tolist())"
   ]
  },
  {
   "cell_type": "code",
   "execution_count": 7,
   "id": "87bd14d3",
   "metadata": {},
   "outputs": [],
   "source": [
    "\n",
    "# Add a dummy Year column for now (you can replace this logic with actual Year extraction)\n",
    "df[\"Year\"] = 2020 "
   ]
  },
  {
   "cell_type": "code",
   "execution_count": 8,
   "id": "5e797fda",
   "metadata": {},
   "outputs": [],
   "source": [
    "# Reorder: put Year in front\n",
    "cols = df.columns.tolist()\n",
    "if \"Year\" in cols:\n",
    "    cols.insert(0, cols.pop(cols.index(\"Year\")))\n",
    "df = df[cols]"
   ]
  },
  {
   "cell_type": "code",
   "execution_count": 10,
   "id": "312d8efe",
   "metadata": {},
   "outputs": [
    {
     "name": "stdout",
     "output_type": "stream",
     "text": [
      "✅ Fixed file saved as: backend/data/test1_fixed.csv\n",
      "✅ Added 'Year' column with value 2020\n"
     ]
    }
   ],
   "source": [
    "# Save fixed version\n",
    "df.to_csv(\"../data/test1_fixed.csv\", index=False)\n",
    "\n",
    "print(\"✅ Fixed file saved as: backend/data/test1_fixed.csv\")\n",
    "print(\"✅ Added 'Year' column with value 2020\")"
   ]
  }
 ],
 "metadata": {
  "kernelspec": {
   "display_name": ".venv",
   "language": "python",
   "name": "python3"
  },
  "language_info": {
   "codemirror_mode": {
    "name": "ipython",
    "version": 3
   },
   "file_extension": ".py",
   "mimetype": "text/x-python",
   "name": "python",
   "nbconvert_exporter": "python",
   "pygments_lexer": "ipython3",
   "version": "3.13.5"
  }
 },
 "nbformat": 4,
 "nbformat_minor": 5
}
